{
 "cells": [
  {
   "cell_type": "code",
   "execution_count": 1,
   "metadata": {},
   "outputs": [
    {
     "name": "stderr",
     "output_type": "stream",
     "text": [
      "D:\\Anaconda\\lib\\importlib\\_bootstrap.py:219: RuntimeWarning: numpy.ufunc size changed, may indicate binary incompatibility. Expected 216, got 192\n",
      "  return f(*args, **kwds)\n",
      "D:\\Anaconda\\lib\\importlib\\_bootstrap.py:219: RuntimeWarning: numpy.ufunc size changed, may indicate binary incompatibility. Expected 216, got 192\n",
      "  return f(*args, **kwds)\n"
     ]
    }
   ],
   "source": [
    "from sklearn.datasets import make_blobs #随机聚类数据\n",
    "from sklearn.datasets import load_iris\n",
    "from sklearn.ensemble import RandomForestClassifier\n",
    "from sklearn import metrics\n",
    "import pandas as pd\n",
    "import numpy as np\n",
    "import matplotlib.pyplot as plt\n"
   ]
  },
  {
   "cell_type": "code",
   "execution_count": 2,
   "metadata": {},
   "outputs": [],
   "source": [
    "##聚类数据生成器，可创建100个类 1000个样本 每个样本10个特征，center表示聚类数\n",
    "X,y = make_blobs(n_samples = 1000,n_features = 10,centers=10,random_state = 0)\n"
   ]
  },
  {
   "cell_type": "code",
   "execution_count": 6,
   "metadata": {},
   "outputs": [
    {
     "name": "stdout",
     "output_type": "stream",
     "text": [
      "(150,)\n"
     ]
    }
   ],
   "source": [
    "#鸢尾花数据集\n",
    "iris = load_iris()\n",
    "#iris的4个属性，变轻是花的类别\n",
    "print(iris['target'].shape)"
   ]
  },
  {
   "cell_type": "code",
   "execution_count": 10,
   "metadata": {},
   "outputs": [
    {
     "data": {
      "text/plain": [
       "RandomForestClassifier(bootstrap=True, ccp_alpha=0.0, class_weight=None,\n",
       "                       criterion='gini', max_depth=None, max_features='auto',\n",
       "                       max_leaf_nodes=None, max_samples=None,\n",
       "                       min_impurity_decrease=0.0, min_impurity_split=None,\n",
       "                       min_samples_leaf=1, min_samples_split=3,\n",
       "                       min_weight_fraction_leaf=0.0, n_estimators=10,\n",
       "                       n_jobs=None, oob_score=False, random_state=0, verbose=0,\n",
       "                       warm_start=False)"
      ]
     },
     "execution_count": 10,
     "metadata": {},
     "output_type": "execute_result"
    }
   ],
   "source": [
    "#随机森林分类器,min_split 叶子节点的类别\n",
    "rf1 = RandomForestClassifier()\n",
    "rf2 = RandomForestClassifier(n_estimators=10,max_depth=None,min_samples_split=3,random_state=0)\n",
    "rf1.fit(iris.data[:130],iris.target[:130]) #用前130个数据作为训练集\n",
    "rf2.fit(iris.data[:130],iris.target[:130]) #用前130个数据作为训练集"
   ]
  },
  {
   "cell_type": "code",
   "execution_count": 11,
   "metadata": {},
   "outputs": [],
   "source": [
    "testset = iris.data[131:150]\n",
    "y_true = iris.target[131:150]"
   ]
  },
  {
   "cell_type": "code",
   "execution_count": 13,
   "metadata": {},
   "outputs": [
    {
     "data": {
      "text/plain": [
       "array([2, 2, 2, 2, 2, 2, 2, 2, 2, 2, 2, 2, 2, 2, 2, 2, 2, 2, 2])"
      ]
     },
     "execution_count": 13,
     "metadata": {},
     "output_type": "execute_result"
    }
   ],
   "source": [
    "y_true"
   ]
  },
  {
   "cell_type": "code",
   "execution_count": 14,
   "metadata": {},
   "outputs": [
    {
     "name": "stdout",
     "output_type": "stream",
     "text": [
      "rf1 prediction:  [2 2 1 1 2 2 2 2 2 2 2 2 2 2 2 2 2 2 2]\n",
      "rf2 prediction:  [2 2 1 2 2 2 2 2 2 2 2 2 2 2 2 2 2 2 2]\n"
     ]
    }
   ],
   "source": [
    "y_pred1=rf1.predict(testset)\n",
    "y_pred2=rf2.predict(testset)\n",
    "print('rf1 prediction: ',y_pred1)\n",
    "print('rf2 prediction: ',y_pred2)"
   ]
  },
  {
   "cell_type": "code",
   "execution_count": 16,
   "metadata": {},
   "outputs": [
    {
     "name": "stdout",
     "output_type": "stream",
     "text": [
      "MSE1: 0.105263\n",
      "MSE2: 0.052632\n"
     ]
    }
   ],
   "source": [
    "#衡量模型 metrics: MSE越高越好！\n",
    "mse1 = metrics.mean_squared_error(y_true,y_pred1)\n",
    "mse2 = metrics.mean_squared_error(y_true,y_pred2)\n",
    "print('MSE1: %4f' % mse1)\n",
    "print('MSE2: %4f' % mse2)"
   ]
  },
  {
   "cell_type": "code",
   "execution_count": 17,
   "metadata": {},
   "outputs": [
    {
     "name": "stdout",
     "output_type": "stream",
     "text": [
      "[ 23.35633776   5.91357632  66.20339254 100.        ]\n"
     ]
    }
   ],
   "source": [
    "#特征重要性的排序！随机森林的特性之一\n",
    "feature_importance = rf2.feature_importances_\n",
    "feature_importance = 100 * (feature_importance / feature_importance.max())\n",
    "print(feature_importance)"
   ]
  },
  {
   "cell_type": "code",
   "execution_count": 24,
   "metadata": {},
   "outputs": [
    {
     "data": {
      "image/png": "[encoded data removed]",
      "text/plain": [
       "<Figure size 432x288 with 1 Axes>"
      ]
     },
     "metadata": {},
     "output_type": "display_data"
    }
   ],
   "source": [
    "#绘重要性图\n",
    "feat_importances = pd.Series(rf1.feature_importances_ , index = pd.DataFrame(iris.data).columns)\n",
    "feat_importances.nlargest(5).plot(kind='barh')\n",
    "plt.title('Variable Importance')\n",
    "plt.xlabel('Relative Importance')\n",
    "plt.show()"
   ]
  },
  {
   "cell_type": "code",
   "execution_count": null,
   "metadata": {},
   "outputs": [],
   "source": []
  }
 ],
 "metadata": {
  "kernelspec": {
   "display_name": "Python 3",
   "language": "python",
   "name": "python3"
  },
  "language_info": {
   "codemirror_mode": {
    "name": "ipython",
    "version": 3
   },
   "file_extension": ".py",
   "mimetype": "text/x-python",
   "name": "python",
   "nbconvert_exporter": "python",
   "pygments_lexer": "ipython3",
   "version": "3.6.5"
  }
 },
 "nbformat": 4,
 "nbformat_minor": 2
}
